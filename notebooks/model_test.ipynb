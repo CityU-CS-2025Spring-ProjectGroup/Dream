{
 "cells": [
  {
   "cell_type": "markdown",
   "metadata": {},
   "source": [
    "1. `conda create -n dream_env -f environment.yaml`\n",
    "2. `conda activate dream_env`"
   ]
  },
  {
   "cell_type": "markdown",
   "metadata": {},
   "source": [
    "# Dream Model Testing"
   ]
  },
  {
   "cell_type": "code",
   "execution_count": 1,
   "metadata": {},
   "outputs": [],
   "source": [
    "import os\n",
    "os.chdir('/home/jovyan')"
   ]
  },
  {
   "cell_type": "code",
   "execution_count": null,
   "metadata": {},
   "outputs": [],
   "source": [
    "import pandas as pd\n",
    "import numpy as np\n",
    "import random\n",
    "import warnings\n",
    "from utils import *\n",
    "from preprocessing.datasets import *\n",
    "\n",
    "warnings.filterwarnings(\"ignore\", category=pd.errors.PerformanceWarning)\n",
    "warnings.filterwarnings(\"ignore\", category=DeprecationWarning)\n",
    "warnings.filterwarnings(\"ignore\", category=RuntimeWarning)\n",
    "warnings.filterwarnings(\"ignore\", category=FutureWarning)\n",
    "warnings.filterwarnings(\"ignore\", category=UserWarning)\n",
    "\n",
    "pd.set_option(\"display.max_rows\", 500)\n",
    "pd.set_option(\"display.max_columns\", 10)\n",
    "pd.set_option(\"display.width\", 1000)\n",
    "pd.set_option(\"display.max_colwidth\", 50)"
   ]
  },
  {
   "cell_type": "markdown",
   "metadata": {},
   "source": [
    "## Data Preparation"
   ]
  },
  {
   "cell_type": "code",
   "execution_count": 3,
   "metadata": {},
   "outputs": [],
   "source": [
    "# quality_df_dir = 'data/quality_scores_per_subject.csv'\n",
    "# features_dir = \"data/features_df/\"\n",
    "# info_dir = \"data/participant_info.csv\""
   ]
  },
  {
   "cell_type": "code",
   "execution_count": 4,
   "metadata": {},
   "outputs": [],
   "source": [
    "# clean_df, new_features, good_quality_sids = data_preparation(\n",
    "#     threshold = 0.2, \n",
    "#     quality_df_dir = quality_df_dir,\n",
    "#     features_dir = features_dir,\n",
    "#     info_dir = info_dir\n",
    "# )\n",
    "\n",
    "# print(clean_df.shape)\n",
    "# print(len(new_features))"
   ]
  },
  {
   "cell_type": "markdown",
   "metadata": {},
   "source": [
    "Read from processed files:"
   ]
  },
  {
   "cell_type": "code",
   "execution_count": 5,
   "metadata": {},
   "outputs": [
    {
     "name": "stdout",
     "output_type": "stream",
     "text": [
      "       PPG_Rate_Mean   HRV_MeanNN    HRV_SDNN   HRV_RMSSD    HRV_SDSD  ...  Hypopnea  Multiple_Events  artifact   sid   BMI\n",
      "0          87.451445   706.554878  267.856258  351.154277  355.627540  ...       0.0              0.0         0  S003  51.0\n",
      "1          84.687304   729.296875  280.299933  416.686698  422.114301  ...       0.0              0.0         1  S003  51.0\n",
      "2          90.889185   675.872093  224.392912  307.124526  310.704819  ...       0.0              0.0         1  S003  51.0\n",
      "3          79.140186   783.361486  303.274460  394.236775  399.794171  ...       0.0              0.0         1  S003  51.0\n",
      "4          90.383327   697.265625  297.089740  386.889187  391.164017  ...       0.0              0.0         1  S003  51.0\n",
      "...              ...          ...         ...         ...         ...  ...       ...              ...       ...   ...   ...\n",
      "77523      61.392727   982.219828  132.432765  154.679608  157.518003  ...       0.0              0.0         0  S102  26.0\n",
      "77524      61.198295   984.375000  138.500822  128.032414  130.376875  ...       0.0              0.0         0  S102  26.0\n",
      "77525      57.181574  1049.189815   18.233936   23.337125   23.799291  ...       0.0              0.0         0  S102  26.0\n",
      "77526      57.535505  1042.824074   17.652470   18.889704   19.224759  ...       0.0              0.0         0  S102  26.0\n",
      "77527      59.300100  1013.950893  149.769504  122.663345  124.548463  ...       0.0              0.0         0  S102  26.0\n",
      "\n",
      "[77528 rows x 595 columns]\n",
      "['PPG_Rate_Mean', 'HRV_MeanNN', 'HRV_SDNN', 'HRV_RMSSD', 'HRV_SDSD', 'HRV_CVNN', 'HRV_CVSD', 'HRV_MedianNN', 'HRV_MadNN', 'HRV_MCVNN', 'HRV_IQRNN', 'HRV_SDRMSSD', 'HRV_Prc20NN', 'HRV_Prc80NN', 'HRV_pNN50', 'HRV_pNN20', 'HRV_MinNN', 'HRV_MaxNN', 'HRV_HTI', 'HRV_TINN', 'HRV_HF', 'HRV_VHF', 'HRV_TP', 'HRV_HFn', 'HRV_LnHF', 'HRV_SD1', 'HRV_SD2', 'HRV_SD1SD2', 'HRV_S', 'HRV_CSI', 'HRV_CVI', 'HRV_CSI_Modified', 'HRV_PIP', 'HRV_IALS', 'HRV_PSS', 'HRV_PAS', 'HRV_GI', 'HRV_SI', 'HRV_AI', 'HRV_PI', 'HRV_C1d', 'HRV_C1a', 'HRV_SD1d', 'HRV_SD1a', 'HRV_C2d', 'HRV_C2a', 'HRV_SD2d', 'HRV_SD2a', 'HRV_Cd', 'HRV_Ca', 'HRV_SDNNd', 'HRV_SDNNa', 'HRV_DFA_alpha1', 'HRV_MFDFA_alpha1_Width', 'HRV_MFDFA_alpha1_Peak', 'HRV_MFDFA_alpha1_Mean', 'HRV_MFDFA_alpha1_Max', 'HRV_MFDFA_alpha1_Delta', 'HRV_MFDFA_alpha1_Asymmetry', 'HRV_MFDFA_alpha1_Fluctuation', 'HRV_MFDFA_alpha1_Increment', 'HRV_ApEn', 'HRV_ShanEn', 'HRV_FuzzyEn', 'HRV_CD', 'HRV_HFD', 'HRV_KFD', 'HRV_LZC', 'total_power', 'normalized_power', 'HF_frequency_power', 'LF_frequency_peak', 'HF_frequency_peak', 'HF_normalized_power', 'breathing_rate', 'HR_mean', 'HR_median', 'HR_max', 'HR_min', 'HR_range', 'HR_std', 'BVP_mean', 'BVP_median', 'BVP_max', 'BVP_min', 'BVP_range', 'BVP_std', 'ACC_X_trimmed_mean', 'ACC_X_trimmed_max', 'ACC_X_trimmed_IQR', 'ACC_Y_trimmed_mean', 'ACC_Y_trimmed_max', 'ACC_Y_trimmed_IQR', 'ACC_Z_trimmed_mean', 'ACC_Z_trimmed_max', 'ACC_Z_trimmed_IQR', 'ACC_X_MAD_trimmed_mean', 'ACC_X_MAD_trimmed_max', 'ACC_X_MAD_trimmed_IQR', 'ACC_Y_MAD_trimmed_mean', 'ACC_Y_MAD_trimmed_max', 'ACC_Y_MAD_trimmed_IQR', 'ACC_Z_MAD_trimmed_mean', 'ACC_Z_MAD_trimmed_max', 'ACC_Z_MAD_trimmed_IQR', 'ACC_INDEX', 'mean_SCR_Height', 'max_SCR_Height', 'mean_SCR_Amplitude', 'max_SCR_Amplitude', 'mean_SCR_RiseTime', 'max_SCR_RiseTime', 'mean_SCR_RecoveryTime', 'max_SCR_RecoveryTime', 'rolling_var_PPG_Rate_Mean', 'rolling_var_HRV_MeanNN', 'rolling_var_HRV_SDNN', 'rolling_var_HRV_RMSSD', 'rolling_var_HRV_SDSD', 'rolling_var_HRV_CVNN', 'rolling_var_HRV_CVSD', 'rolling_var_HRV_MedianNN', 'rolling_var_HRV_MadNN', 'rolling_var_HRV_MCVNN', 'rolling_var_HRV_IQRNN', 'rolling_var_HRV_SDRMSSD', 'rolling_var_HRV_Prc20NN', 'rolling_var_HRV_Prc80NN', 'rolling_var_HRV_pNN50', 'rolling_var_HRV_pNN20', 'rolling_var_HRV_MinNN', 'rolling_var_HRV_MaxNN', 'rolling_var_HRV_HTI', 'rolling_var_HRV_TINN', 'rolling_var_HRV_HF', 'rolling_var_HRV_VHF', 'rolling_var_HRV_TP', 'rolling_var_HRV_HFn', 'rolling_var_HRV_LnHF', 'rolling_var_HRV_SD1', 'rolling_var_HRV_SD2', 'rolling_var_HRV_SD1SD2', 'rolling_var_HRV_S', 'rolling_var_HRV_CSI', 'rolling_var_HRV_CVI', 'rolling_var_HRV_CSI_Modified', 'rolling_var_HRV_PIP', 'rolling_var_HRV_IALS', 'rolling_var_HRV_PSS', 'rolling_var_HRV_PAS', 'rolling_var_HRV_GI', 'rolling_var_HRV_SI', 'rolling_var_HRV_AI', 'rolling_var_HRV_PI', 'rolling_var_HRV_C1d', 'rolling_var_HRV_C1a', 'rolling_var_HRV_SD1d', 'rolling_var_HRV_SD1a', 'rolling_var_HRV_C2d', 'rolling_var_HRV_C2a', 'rolling_var_HRV_SD2d', 'rolling_var_HRV_SD2a', 'rolling_var_HRV_Cd', 'rolling_var_HRV_Ca', 'rolling_var_HRV_SDNNd', 'rolling_var_HRV_SDNNa', 'rolling_var_HRV_DFA_alpha1', 'rolling_var_HRV_MFDFA_alpha1_Width', 'rolling_var_HRV_MFDFA_alpha1_Peak', 'rolling_var_HRV_MFDFA_alpha1_Mean', 'rolling_var_HRV_MFDFA_alpha1_Max', 'rolling_var_HRV_MFDFA_alpha1_Delta', 'rolling_var_HRV_MFDFA_alpha1_Asymmetry', 'rolling_var_HRV_MFDFA_alpha1_Fluctuation', 'rolling_var_HRV_MFDFA_alpha1_Increment', 'rolling_var_HRV_ApEn', 'rolling_var_HRV_SampEn', 'rolling_var_HRV_ShanEn', 'rolling_var_HRV_FuzzyEn', 'rolling_var_HRV_CD', 'rolling_var_HRV_HFD', 'rolling_var_HRV_KFD', 'rolling_var_HRV_LZC', 'rolling_var_total_power', 'rolling_var_normalized_power', 'rolling_var_HF_frequency_power', 'rolling_var_LF_frequency_peak', 'rolling_var_HF_frequency_peak', 'rolling_var_HF_normalized_power', 'rolling_var_breathing_rate', 'rolling_var_HR_mean', 'rolling_var_HR_median', 'rolling_var_HR_max', 'rolling_var_HR_min', 'rolling_var_HR_range', 'rolling_var_HR_std', 'rolling_var_BVP_mean', 'rolling_var_BVP_median', 'rolling_var_BVP_max', 'rolling_var_BVP_min', 'rolling_var_BVP_range', 'rolling_var_BVP_std', 'rolling_var_ACC_X_trimmed_mean', 'rolling_var_ACC_X_trimmed_max', 'rolling_var_ACC_X_trimmed_IQR', 'rolling_var_ACC_Y_trimmed_mean', 'rolling_var_ACC_Y_trimmed_max', 'rolling_var_ACC_Y_trimmed_IQR', 'rolling_var_ACC_Z_trimmed_mean', 'rolling_var_ACC_Z_trimmed_max', 'rolling_var_ACC_Z_trimmed_IQR', 'rolling_var_ACC_X_MAD_trimmed_mean', 'rolling_var_ACC_X_MAD_trimmed_max', 'rolling_var_ACC_X_MAD_trimmed_IQR', 'rolling_var_ACC_Y_MAD_trimmed_mean', 'rolling_var_ACC_Y_MAD_trimmed_max', 'rolling_var_ACC_Y_MAD_trimmed_IQR', 'rolling_var_ACC_Z_MAD_trimmed_mean', 'rolling_var_ACC_Z_MAD_trimmed_max', 'rolling_var_ACC_Z_MAD_trimmed_IQR', 'rolling_var_ACC_INDEX', 'rolling_var_mean_SCR_Height', 'rolling_var_max_SCR_Height', 'rolling_var_mean_SCR_Amplitude', 'rolling_var_max_SCR_Amplitude', 'rolling_var_mean_SCR_RiseTime', 'rolling_var_max_SCR_RiseTime', 'rolling_var_mean_SCR_RecoveryTime', 'rolling_var_max_SCR_RecoveryTime', 'gaussian_PPG_Rate_Mean', 'gaussian_HRV_MeanNN', 'gaussian_HRV_SDNN', 'gaussian_HRV_RMSSD', 'gaussian_HRV_SDSD', 'gaussian_HRV_CVNN', 'gaussian_HRV_CVSD', 'gaussian_HRV_MedianNN', 'gaussian_HRV_MadNN', 'gaussian_HRV_MCVNN', 'gaussian_HRV_IQRNN', 'gaussian_HRV_SDRMSSD', 'gaussian_HRV_Prc20NN', 'gaussian_HRV_Prc80NN', 'gaussian_HRV_pNN50', 'gaussian_HRV_pNN20', 'gaussian_HRV_MinNN', 'gaussian_HRV_MaxNN', 'gaussian_HRV_HTI', 'gaussian_HRV_TINN', 'gaussian_HRV_HF', 'gaussian_HRV_VHF', 'gaussian_HRV_TP', 'gaussian_HRV_HFn', 'gaussian_HRV_LnHF', 'gaussian_HRV_SD1', 'gaussian_HRV_SD2', 'gaussian_HRV_SD1SD2', 'gaussian_HRV_S', 'gaussian_HRV_CSI', 'gaussian_HRV_CVI', 'gaussian_HRV_CSI_Modified', 'gaussian_HRV_PIP', 'gaussian_HRV_IALS', 'gaussian_HRV_PSS', 'gaussian_HRV_PAS', 'gaussian_HRV_GI', 'gaussian_HRV_SI', 'gaussian_HRV_AI', 'gaussian_HRV_PI', 'gaussian_HRV_C1d', 'gaussian_HRV_C1a', 'gaussian_HRV_SD1d', 'gaussian_HRV_SD1a', 'gaussian_HRV_C2d', 'gaussian_HRV_C2a', 'gaussian_HRV_SD2d', 'gaussian_HRV_SD2a', 'gaussian_HRV_Cd', 'gaussian_HRV_Ca', 'gaussian_HRV_SDNNd', 'gaussian_HRV_SDNNa', 'gaussian_HRV_DFA_alpha1', 'gaussian_HRV_MFDFA_alpha1_Width', 'gaussian_HRV_MFDFA_alpha1_Peak', 'gaussian_HRV_MFDFA_alpha1_Mean', 'gaussian_HRV_MFDFA_alpha1_Max', 'gaussian_HRV_MFDFA_alpha1_Delta', 'gaussian_HRV_MFDFA_alpha1_Asymmetry', 'gaussian_HRV_MFDFA_alpha1_Fluctuation', 'gaussian_HRV_MFDFA_alpha1_Increment', 'gaussian_HRV_ApEn', 'gaussian_HRV_ShanEn', 'gaussian_HRV_FuzzyEn', 'gaussian_HRV_CD', 'gaussian_HRV_HFD', 'gaussian_HRV_KFD', 'gaussian_HRV_LZC', 'gaussian_total_power', 'gaussian_normalized_power', 'gaussian_HF_frequency_power', 'gaussian_LF_frequency_peak', 'gaussian_HF_frequency_peak', 'gaussian_HF_normalized_power', 'gaussian_breathing_rate', 'gaussian_HR_mean', 'gaussian_HR_median', 'gaussian_HR_max', 'gaussian_HR_min', 'gaussian_HR_range', 'gaussian_HR_std', 'gaussian_BVP_mean', 'gaussian_BVP_median', 'gaussian_BVP_max', 'gaussian_BVP_min', 'gaussian_BVP_range', 'gaussian_BVP_std', 'gaussian_ACC_X_trimmed_mean', 'gaussian_ACC_X_trimmed_max', 'gaussian_ACC_X_trimmed_IQR', 'gaussian_ACC_Y_trimmed_mean', 'gaussian_ACC_Y_trimmed_max', 'gaussian_ACC_Y_trimmed_IQR', 'gaussian_ACC_Z_trimmed_mean', 'gaussian_ACC_Z_trimmed_max', 'gaussian_ACC_Z_trimmed_IQR', 'gaussian_ACC_X_MAD_trimmed_mean', 'gaussian_ACC_X_MAD_trimmed_max', 'gaussian_ACC_X_MAD_trimmed_IQR', 'gaussian_ACC_Y_MAD_trimmed_mean', 'gaussian_ACC_Y_MAD_trimmed_max', 'gaussian_ACC_Y_MAD_trimmed_IQR', 'gaussian_ACC_Z_MAD_trimmed_mean', 'gaussian_ACC_Z_MAD_trimmed_max', 'gaussian_ACC_Z_MAD_trimmed_IQR', 'gaussian_ACC_INDEX', 'gaussian_TEMP_mean', 'gaussian_TEMP_median', 'gaussian_TEMP_max', 'gaussian_TEMP_min', 'gaussian_TEMP_std', 'gaussian_mean_SCR_Height', 'gaussian_max_SCR_Height', 'gaussian_mean_SCR_Amplitude', 'gaussian_max_SCR_Amplitude', 'gaussian_mean_SCR_RiseTime', 'gaussian_max_SCR_RiseTime', 'gaussian_mean_SCR_RecoveryTime', 'gaussian_max_SCR_RecoveryTime', 'gaussian_PPG_Rate_Mean_1st_derivative', 'raw_PPG_Rate_Mean_1st_derivative', 'gaussian_HRV_MeanNN_1st_derivative', 'raw_HRV_MeanNN_1st_derivative', 'gaussian_HRV_SDNN_1st_derivative', 'raw_HRV_SDNN_1st_derivative', 'gaussian_HRV_RMSSD_1st_derivative', 'raw_HRV_RMSSD_1st_derivative', 'gaussian_HRV_SDSD_1st_derivative', 'raw_HRV_SDSD_1st_derivative', 'gaussian_HRV_CVNN_1st_derivative', 'raw_HRV_CVNN_1st_derivative', 'gaussian_HRV_CVSD_1st_derivative', 'raw_HRV_CVSD_1st_derivative', 'gaussian_HRV_MedianNN_1st_derivative', 'raw_HRV_MedianNN_1st_derivative', 'gaussian_HRV_MadNN_1st_derivative', 'raw_HRV_MadNN_1st_derivative', 'gaussian_HRV_MCVNN_1st_derivative', 'raw_HRV_MCVNN_1st_derivative', 'gaussian_HRV_IQRNN_1st_derivative', 'raw_HRV_IQRNN_1st_derivative', 'gaussian_HRV_SDRMSSD_1st_derivative', 'raw_HRV_SDRMSSD_1st_derivative', 'gaussian_HRV_Prc20NN_1st_derivative', 'raw_HRV_Prc20NN_1st_derivative', 'gaussian_HRV_Prc80NN_1st_derivative', 'raw_HRV_Prc80NN_1st_derivative', 'gaussian_HRV_pNN50_1st_derivative', 'raw_HRV_pNN50_1st_derivative', 'gaussian_HRV_pNN20_1st_derivative', 'raw_HRV_pNN20_1st_derivative', 'gaussian_HRV_MinNN_1st_derivative', 'raw_HRV_MinNN_1st_derivative', 'gaussian_HRV_MaxNN_1st_derivative', 'raw_HRV_MaxNN_1st_derivative', 'gaussian_HRV_HTI_1st_derivative', 'raw_HRV_HTI_1st_derivative', 'gaussian_HRV_TINN_1st_derivative', 'raw_HRV_TINN_1st_derivative', 'gaussian_HRV_HF_1st_derivative', 'raw_HRV_HF_1st_derivative', 'gaussian_HRV_VHF_1st_derivative', 'raw_HRV_VHF_1st_derivative', 'gaussian_HRV_TP_1st_derivative', 'raw_HRV_TP_1st_derivative', 'gaussian_HRV_HFn_1st_derivative', 'raw_HRV_HFn_1st_derivative', 'gaussian_HRV_LnHF_1st_derivative', 'raw_HRV_LnHF_1st_derivative', 'gaussian_HRV_SD1_1st_derivative', 'raw_HRV_SD1_1st_derivative', 'gaussian_HRV_SD2_1st_derivative', 'raw_HRV_SD2_1st_derivative', 'gaussian_HRV_SD1SD2_1st_derivative', 'raw_HRV_SD1SD2_1st_derivative', 'gaussian_HRV_S_1st_derivative', 'raw_HRV_S_1st_derivative', 'gaussian_HRV_CSI_1st_derivative', 'raw_HRV_CSI_1st_derivative', 'gaussian_HRV_CVI_1st_derivative', 'raw_HRV_CVI_1st_derivative', 'gaussian_HRV_CSI_Modified_1st_derivative', 'raw_HRV_CSI_Modified_1st_derivative', 'gaussian_HRV_PIP_1st_derivative', 'raw_HRV_PIP_1st_derivative', 'gaussian_HRV_IALS_1st_derivative', 'raw_HRV_IALS_1st_derivative', 'gaussian_HRV_PSS_1st_derivative', 'raw_HRV_PSS_1st_derivative', 'gaussian_HRV_PAS_1st_derivative', 'raw_HRV_PAS_1st_derivative', 'gaussian_HRV_GI_1st_derivative', 'raw_HRV_GI_1st_derivative', 'gaussian_HRV_SI_1st_derivative', 'raw_HRV_SI_1st_derivative', 'gaussian_HRV_AI_1st_derivative', 'raw_HRV_AI_1st_derivative', 'gaussian_HRV_PI_1st_derivative', 'raw_HRV_PI_1st_derivative', 'gaussian_HRV_C1d_1st_derivative', 'raw_HRV_C1d_1st_derivative', 'gaussian_HRV_C1a_1st_derivative', 'raw_HRV_C1a_1st_derivative', 'gaussian_HRV_SD1d_1st_derivative', 'raw_HRV_SD1d_1st_derivative', 'gaussian_HRV_SD1a_1st_derivative', 'raw_HRV_SD1a_1st_derivative', 'gaussian_HRV_C2d_1st_derivative', 'raw_HRV_C2d_1st_derivative', 'gaussian_HRV_C2a_1st_derivative', 'raw_HRV_C2a_1st_derivative', 'gaussian_HRV_SD2d_1st_derivative', 'raw_HRV_SD2d_1st_derivative', 'gaussian_HRV_SD2a_1st_derivative', 'raw_HRV_SD2a_1st_derivative', 'gaussian_HRV_Cd_1st_derivative', 'raw_HRV_Cd_1st_derivative', 'gaussian_HRV_Ca_1st_derivative', 'raw_HRV_Ca_1st_derivative', 'gaussian_HRV_SDNNd_1st_derivative', 'raw_HRV_SDNNd_1st_derivative', 'gaussian_HRV_SDNNa_1st_derivative', 'raw_HRV_SDNNa_1st_derivative', 'gaussian_HRV_DFA_alpha1_1st_derivative', 'raw_HRV_DFA_alpha1_1st_derivative', 'gaussian_HRV_MFDFA_alpha1_Width_1st_derivative', 'raw_HRV_MFDFA_alpha1_Width_1st_derivative', 'gaussian_HRV_MFDFA_alpha1_Peak_1st_derivative', 'raw_HRV_MFDFA_alpha1_Peak_1st_derivative', 'gaussian_HRV_MFDFA_alpha1_Mean_1st_derivative', 'raw_HRV_MFDFA_alpha1_Mean_1st_derivative', 'gaussian_HRV_MFDFA_alpha1_Max_1st_derivative', 'raw_HRV_MFDFA_alpha1_Max_1st_derivative', 'gaussian_HRV_MFDFA_alpha1_Delta_1st_derivative', 'raw_HRV_MFDFA_alpha1_Delta_1st_derivative', 'gaussian_HRV_MFDFA_alpha1_Asymmetry_1st_derivative', 'raw_HRV_MFDFA_alpha1_Asymmetry_1st_derivative', 'gaussian_HRV_MFDFA_alpha1_Fluctuation_1st_derivative', 'raw_HRV_MFDFA_alpha1_Fluctuation_1st_derivative', 'gaussian_HRV_MFDFA_alpha1_Increment_1st_derivative', 'raw_HRV_MFDFA_alpha1_Increment_1st_derivative', 'gaussian_HRV_ApEn_1st_derivative', 'raw_HRV_ApEn_1st_derivative', 'gaussian_HRV_ShanEn_1st_derivative', 'raw_HRV_ShanEn_1st_derivative', 'gaussian_HRV_FuzzyEn_1st_derivative', 'raw_HRV_FuzzyEn_1st_derivative', 'gaussian_HRV_CD_1st_derivative', 'raw_HRV_CD_1st_derivative', 'gaussian_HRV_HFD_1st_derivative', 'raw_HRV_HFD_1st_derivative', 'gaussian_HRV_KFD_1st_derivative', 'raw_HRV_KFD_1st_derivative', 'gaussian_HRV_LZC_1st_derivative', 'raw_HRV_LZC_1st_derivative', 'gaussian_total_power_1st_derivative', 'raw_total_power_1st_derivative', 'gaussian_normalized_power_1st_derivative', 'raw_normalized_power_1st_derivative', 'gaussian_HF_frequency_power_1st_derivative', 'raw_HF_frequency_power_1st_derivative', 'gaussian_LF_frequency_peak_1st_derivative', 'raw_LF_frequency_peak_1st_derivative', 'gaussian_HF_frequency_peak_1st_derivative', 'raw_HF_frequency_peak_1st_derivative', 'gaussian_HF_normalized_power_1st_derivative', 'raw_HF_normalized_power_1st_derivative', 'gaussian_breathing_rate_1st_derivative', 'raw_breathing_rate_1st_derivative', 'gaussian_HR_mean_1st_derivative', 'raw_HR_mean_1st_derivative', 'gaussian_HR_median_1st_derivative', 'raw_HR_median_1st_derivative', 'gaussian_HR_max_1st_derivative', 'raw_HR_max_1st_derivative', 'gaussian_HR_min_1st_derivative', 'raw_HR_min_1st_derivative', 'gaussian_HR_range_1st_derivative', 'raw_HR_range_1st_derivative', 'gaussian_HR_std_1st_derivative', 'raw_HR_std_1st_derivative', 'gaussian_BVP_mean_1st_derivative', 'raw_BVP_mean_1st_derivative', 'gaussian_BVP_median_1st_derivative', 'raw_BVP_median_1st_derivative', 'gaussian_BVP_max_1st_derivative', 'raw_BVP_max_1st_derivative', 'gaussian_BVP_min_1st_derivative', 'raw_BVP_min_1st_derivative', 'gaussian_BVP_range_1st_derivative', 'raw_BVP_range_1st_derivative', 'gaussian_BVP_std_1st_derivative', 'raw_BVP_std_1st_derivative', 'gaussian_ACC_X_trimmed_mean_1st_derivative', 'raw_ACC_X_trimmed_mean_1st_derivative', 'gaussian_ACC_X_trimmed_max_1st_derivative', 'raw_ACC_X_trimmed_max_1st_derivative', 'gaussian_ACC_X_trimmed_IQR_1st_derivative', 'raw_ACC_X_trimmed_IQR_1st_derivative', 'gaussian_ACC_Y_trimmed_mean_1st_derivative', 'raw_ACC_Y_trimmed_mean_1st_derivative', 'gaussian_ACC_Y_trimmed_max_1st_derivative', 'raw_ACC_Y_trimmed_max_1st_derivative', 'gaussian_ACC_Y_trimmed_IQR_1st_derivative', 'raw_ACC_Y_trimmed_IQR_1st_derivative', 'gaussian_ACC_Z_trimmed_mean_1st_derivative', 'raw_ACC_Z_trimmed_mean_1st_derivative', 'gaussian_ACC_Z_trimmed_max_1st_derivative', 'raw_ACC_Z_trimmed_max_1st_derivative', 'gaussian_ACC_Z_trimmed_IQR_1st_derivative', 'raw_ACC_Z_trimmed_IQR_1st_derivative', 'gaussian_ACC_X_MAD_trimmed_mean_1st_derivative', 'raw_ACC_X_MAD_trimmed_mean_1st_derivative', 'gaussian_ACC_X_MAD_trimmed_max_1st_derivative', 'raw_ACC_X_MAD_trimmed_max_1st_derivative', 'gaussian_ACC_X_MAD_trimmed_IQR_1st_derivative', 'raw_ACC_X_MAD_trimmed_IQR_1st_derivative', 'gaussian_ACC_Y_MAD_trimmed_mean_1st_derivative', 'raw_ACC_Y_MAD_trimmed_mean_1st_derivative', 'gaussian_ACC_Y_MAD_trimmed_max_1st_derivative', 'raw_ACC_Y_MAD_trimmed_max_1st_derivative', 'gaussian_ACC_Y_MAD_trimmed_IQR_1st_derivative', 'raw_ACC_Y_MAD_trimmed_IQR_1st_derivative', 'gaussian_ACC_Z_MAD_trimmed_mean_1st_derivative', 'raw_ACC_Z_MAD_trimmed_mean_1st_derivative', 'gaussian_ACC_Z_MAD_trimmed_max_1st_derivative', 'raw_ACC_Z_MAD_trimmed_max_1st_derivative', 'gaussian_ACC_Z_MAD_trimmed_IQR_1st_derivative', 'raw_ACC_Z_MAD_trimmed_IQR_1st_derivative', 'gaussian_ACC_INDEX_1st_derivative', 'raw_ACC_INDEX_1st_derivative', 'gaussian_TEMP_mean_1st_derivative', 'gaussian_TEMP_median_1st_derivative', 'gaussian_TEMP_max_1st_derivative', 'gaussian_TEMP_min_1st_derivative', 'gaussian_TEMP_std_1st_derivative', 'gaussian_mean_SCR_Height_1st_derivative', 'raw_mean_SCR_Height_1st_derivative', 'gaussian_max_SCR_Height_1st_derivative', 'raw_max_SCR_Height_1st_derivative', 'gaussian_mean_SCR_Amplitude_1st_derivative', 'raw_mean_SCR_Amplitude_1st_derivative', 'gaussian_max_SCR_Amplitude_1st_derivative', 'raw_max_SCR_Amplitude_1st_derivative', 'gaussian_mean_SCR_RiseTime_1st_derivative', 'raw_mean_SCR_RiseTime_1st_derivative', 'gaussian_max_SCR_RiseTime_1st_derivative', 'raw_max_SCR_RiseTime_1st_derivative', 'gaussian_mean_SCR_RecoveryTime_1st_derivative', 'raw_mean_SCR_RecoveryTime_1st_derivative', 'gaussian_max_SCR_RecoveryTime_1st_derivative', 'raw_max_SCR_RecoveryTime_1st_derivative', 'artifact']\n",
      "['S003', 'S004', 'S005', 'S006', 'S007', 'S009', 'S010', 'S011', 'S012', 'S013', 'S014', 'S015', 'S016', 'S018', 'S020', 'S021', 'S023', 'S024', 'S025', 'S027', 'S028', 'S029', 'S030', 'S031', 'S032', 'S033', 'S034', 'S035', 'S036', 'S038', 'S039', 'S042', 'S043', 'S044', 'S045', 'S046', 'S048', 'S049', 'S050', 'S051', 'S053', 'S054', 'S056', 'S057', 'S061', 'S062', 'S063', 'S064', 'S066', 'S068', 'S069', 'S070', 'S071', 'S073', 'S074', 'S076', 'S077', 'S079', 'S080', 'S082', 'S083', 'S084', 'S085', 'S086', 'S088', 'S089', 'S090', 'S091', 'S092', 'S093', 'S095', 'S096', 'S098', 'S099', 'S100', 'S101', 'S102']\n"
     ]
    }
   ],
   "source": [
    "import json\n",
    "\n",
    "\n",
    "clean_df = pd.read_csv('data/processed/clean_df.csv')\n",
    "\n",
    "with open(\"data/processed/new_features.json\", \"r\") as f:\n",
    "    new_features = json.load(f)\n",
    "\n",
    "good_quality_sids = []\n",
    "with open(\"data/processed/good_quality_sids.txt\", \"r\") as f:\n",
    "    for line in f.readlines():\n",
    "        good_quality_sids.append(line.split('\\n')[0])\n",
    "\n",
    "print(clean_df)\n",
    "print(new_features)\n",
    "print(good_quality_sids)"
   ]
  },
  {
   "cell_type": "markdown",
   "metadata": {},
   "source": [
    "Get DataFrame and final features. The 'sid' of training set, validation set, and test set are also splitted."
   ]
  },
  {
   "cell_type": "code",
   "execution_count": 6,
   "metadata": {},
   "outputs": [],
   "source": [
    "good_quality_sids = [sid for sid in good_quality_sids if sid in clean_df['sid'].values]  # check the existence\n",
    "\n",
    "sw_df, final_features = split_data(clean_df, good_quality_sids, new_features)\n",
    "\n",
    "random.seed(4487)\n",
    "\n",
    "train_sids = random.sample(good_quality_sids, 56)\n",
    "\n",
    "remaining_sids = [subj for subj in good_quality_sids if subj not in train_sids]\n",
    "\n",
    "val_sids = random.sample(remaining_sids, 8)\n",
    "\n",
    "test_sids = [subj for subj in remaining_sids if subj not in val_sids]"
   ]
  },
  {
   "cell_type": "markdown",
   "metadata": {},
   "source": [
    "Choose random effect (the selection has no effects to the prediction currently), and get actual training, validation, and test set while the training set are resampled using 'SMOTE' since the class is unbalanced:"
   ]
  },
  {
   "cell_type": "code",
   "execution_count": 7,
   "metadata": {},
   "outputs": [],
   "source": [
    "group_vars = ['AHI_Severity', 'Obesity']\n",
    "\n",
    "group_var = [group_vars[0]]  # selecting Apnea as random effect\n",
    "\n",
    "(X_train_resampled, y_train_resampled, group_train_resampled), \\\n",
    "(X_train, y_train, group_train), \\\n",
    "(X_val, y_val, group_val), \\\n",
    "(X_test, y_test, group_test) = process_and_resample_data(\n",
    "    sw_df, train_sids, val_sids, test_sids, final_features, group_var\n",
    ")"
   ]
  },
  {
   "cell_type": "markdown",
   "metadata": {},
   "source": [
    "## Model Testing"
   ]
  },
  {
   "cell_type": "code",
   "execution_count": null,
   "metadata": {},
   "outputs": [],
   "source": [
    "from dream_models.dream_lightgbm import *\n",
    "from dream_models.dream_gpboost import *\n",
    "from dream_models.dream_lstm import *\n",
    "from dream_models.dream_knn_baseline import *\n",
    "from dream_models.dream_decision_tree_baseline import *\n",
    "from dream_models.dream_random_forest_baseline import *\n",
    "from dream_models.dream_fttransformer import *"
   ]
  },
  {
   "cell_type": "markdown",
   "metadata": {},
   "source": [
    "### Baseline Models"
   ]
  },
  {
   "cell_type": "markdown",
   "metadata": {},
   "source": [
    "#### k-NN"
   ]
  },
  {
   "cell_type": "code",
   "execution_count": 9,
   "metadata": {},
   "outputs": [
    {
     "name": "stdout",
     "output_type": "stream",
     "text": [
      "100%|██████████| 50/50 [02:03<00:00,  2.46s/trial, best loss: -0.6362175194213769]\n",
      "Best hyperparameters: {'metric': 'euclidean', 'n_neighbors': 50, 'weights': 'uniform'}\n"
     ]
    }
   ],
   "source": [
    "final_knn_model = knn_trainer(X_train_resampled, y_train_resampled, X_val, y_val)"
   ]
  },
  {
   "cell_type": "markdown",
   "metadata": {},
   "source": [
    "Training score:"
   ]
  },
  {
   "cell_type": "code",
   "execution_count": null,
   "metadata": {},
   "outputs": [
    {
     "name": "stdout",
     "output_type": "stream",
     "text": [
      "[[25228  9058]\n",
      " [ 6705 16548]]\n"
     ]
    },
    {
     "data": {
      "image/png": "[encoded data removed]",
      "text/plain": [
       "<Figure size 400x300 with 2 Axes>"
      ]
     },
     "metadata": {},
     "output_type": "display_data"
    },
    {
     "data": {
      "text/html": [
       "<div>\n",
       "<style scoped>\n",
       "    .dataframe tbody tr th:only-of-type {\n",
       "        vertical-align: middle;\n",
       "    }\n",
       "\n",
       "    .dataframe tbody tr th {\n",
       "        vertical-align: top;\n",
       "    }\n",
       "\n",
       "    .dataframe thead th {\n",
       "        text-align: right;\n",
       "    }\n",
       "</style>\n",
       "<table border=\"1\" class=\"dataframe\">\n",
       "  <thead>\n",
       "    <tr style=\"text-align: right;\">\n",
       "      <th></th>\n",
       "      <th>Model</th>\n",
       "      <th>Precision</th>\n",
       "      <th>Recall</th>\n",
       "      <th>F1 Score</th>\n",
       "      <th>Specificity</th>\n",
       "      <th>AUROC</th>\n",
       "      <th>AUPRC</th>\n",
       "      <th>Accuracy</th>\n",
       "      <th>Cohen's Kappa</th>\n",
       "    </tr>\n",
       "  </thead>\n",
       "  <tbody>\n",
       "    <tr>\n",
       "      <th>0</th>\n",
       "      <td>kNN</td>\n",
       "      <td>0.646255</td>\n",
       "      <td>0.71165</td>\n",
       "      <td>0.677378</td>\n",
       "      <td>0.735811</td>\n",
       "      <td>0.806466</td>\n",
       "      <td>0.74579</td>\n",
       "      <td>0.726047</td>\n",
       "      <td>0.433858</td>\n",
       "    </tr>\n",
       "  </tbody>\n",
       "</table>\n",
       "</div>"
      ],
      "text/plain": [
       "  Model  Precision   Recall  F1 Score  Specificity     AUROC    AUPRC  Accuracy  Cohen's Kappa\n",
       "0   kNN   0.646255  0.71165  0.677378     0.735811  0.806466  0.74579  0.726047       0.433858"
      ]
     },
     "execution_count": 11,
     "metadata": {},
     "output_type": "execute_result"
    }
   ],
   "source": [
    "prob_list_train, len_train, true_stages_train = compute_probabilities(\n",
    "    train_sids, sw_df, final_features, 'kNN', final_knn_model, group_var\n",
    ")\n",
    "pred_prob_train = final_knn_model.predict_proba(X_train)\n",
    "plot_cm(prob_list_train, true_list_train, 'kNN')\n",
    "results_train = calculate_metrics(y_train, pred_prob_train, 'kNN')\n",
    "\n",
    "results_train[\"Cohen's Kappa\"] = calculate_kappa(prob_list_train, true_stages_train)\n",
    "\n",
    "plot_cm(prob_list_train, true_stages_train, 'kNN')\n",
    "results_train"
   ]
  },
  {
   "cell_type": "markdown",
   "metadata": {},
   "source": [
    "Testing score:"
   ]
  },
  {
   "cell_type": "code",
   "execution_count": null,
   "metadata": {},
   "outputs": [
    {
     "name": "stdout",
     "output_type": "stream",
     "text": [
      "[[3918 2865]\n",
      " [1523 3832]]\n"
     ]
    },
    {
     "data": {
      "image/png": "[encoded data removed]",
      "text/plain": [
       "<Figure size 400x300 with 2 Axes>"
      ]
     },
     "metadata": {},
     "output_type": "display_data"
    },
    {
     "data": {
      "text/html": [
       "<div>\n",
       "<style scoped>\n",
       "    .dataframe tbody tr th:only-of-type {\n",
       "        vertical-align: middle;\n",
       "    }\n",
       "\n",
       "    .dataframe tbody tr th {\n",
       "        vertical-align: top;\n",
       "    }\n",
       "\n",
       "    .dataframe thead th {\n",
       "        text-align: right;\n",
       "    }\n",
       "</style>\n",
       "<table border=\"1\" class=\"dataframe\">\n",
       "  <thead>\n",
       "    <tr style=\"text-align: right;\">\n",
       "      <th></th>\n",
       "      <th>Model</th>\n",
       "      <th>Precision</th>\n",
       "      <th>Recall</th>\n",
       "      <th>F1 Score</th>\n",
       "      <th>Specificity</th>\n",
       "      <th>AUROC</th>\n",
       "      <th>AUPRC</th>\n",
       "      <th>Accuracy</th>\n",
       "      <th>Cohen's Kappa</th>\n",
       "    </tr>\n",
       "  </thead>\n",
       "  <tbody>\n",
       "    <tr>\n",
       "      <th>0</th>\n",
       "      <td>kNN</td>\n",
       "      <td>0.572197</td>\n",
       "      <td>0.715593</td>\n",
       "      <td>0.635911</td>\n",
       "      <td>0.577621</td>\n",
       "      <td>0.693823</td>\n",
       "      <td>0.602581</td>\n",
       "      <td>0.638491</td>\n",
       "      <td>0.255494</td>\n",
       "    </tr>\n",
       "  </tbody>\n",
       "</table>\n",
       "</div>"
      ],
      "text/plain": [
       "  Model  Precision    Recall  F1 Score  Specificity     AUROC     AUPRC  Accuracy  Cohen's Kappa\n",
       "0   kNN   0.572197  0.715593  0.635911     0.577621  0.693823  0.602581  0.638491       0.255494"
      ]
     },
     "execution_count": 12,
     "metadata": {},
     "output_type": "execute_result"
    }
   ],
   "source": [
    "prob_list_test, len_test, true_stages_test = compute_probabilities(\n",
    "    test_sids, sw_df, final_features, 'kNN', final_knn_model, group_var\n",
    ")\n",
    "pred_prob_test = final_knn_model.predict_proba(X_test)\n",
    "plot_cm(prob_list_test, true_list_test, 'kNN')\n",
    "results_test = calculate_metrics(y_test, pred_prob_test, 'kNN')\n",
    "\n",
    "results_test[\"Cohen's Kappa\"] = calculate_kappa(prob_list_test, true_stages_test)\n",
    "\n",
    "plot_cm(prob_list_test, true_stages_test, 'kNN')\n",
    "results_test"
   ]
  },
  {
   "cell_type": "markdown",
   "metadata": {},
   "source": [
    "#### Decision Tree"
   ]
  },
  {
   "cell_type": "code",
   "execution_count": 13,
   "metadata": {},
   "outputs": [
    {
     "name": "stdout",
     "output_type": "stream",
     "text": [
      "100%|██████████| 50/50 [14:23<00:00, 17.27s/trial, best loss: -0.7310804378867206]\n",
      "Best hyperparameters: {'criterion': 'entropy', 'max_depth': 7, 'min_samples_leaf': 5, 'min_samples_split': 5}\n"
     ]
    }
   ],
   "source": [
    "final_dt_model = decision_tree_trainer(X_train_resampled, y_train_resampled, X_val, y_val)"
   ]
  },
  {
   "cell_type": "markdown",
   "metadata": {},
   "source": [
    "Training score:"
   ]
  },
  {
   "cell_type": "code",
   "execution_count": 18,
   "metadata": {},
   "outputs": [
    {
     "name": "stdout",
     "output_type": "stream",
     "text": [
      "[[29837  4449]\n",
      " [ 3951 19302]]\n"
     ]
    },
    {
     "data": {
      "image/png": "[encoded data removed]",
      "text/plain": [
       "<Figure size 400x300 with 2 Axes>"
      ]
     },
     "metadata": {},
     "output_type": "display_data"
    },
    {
     "data": {
      "text/html": [
       "<div>\n",
       "<style scoped>\n",
       "    .dataframe tbody tr th:only-of-type {\n",
       "        vertical-align: middle;\n",
       "    }\n",
       "\n",
       "    .dataframe tbody tr th {\n",
       "        vertical-align: top;\n",
       "    }\n",
       "\n",
       "    .dataframe thead th {\n",
       "        text-align: right;\n",
       "    }\n",
       "</style>\n",
       "<table border=\"1\" class=\"dataframe\">\n",
       "  <thead>\n",
       "    <tr style=\"text-align: right;\">\n",
       "      <th></th>\n",
       "      <th>Model</th>\n",
       "      <th>Precision</th>\n",
       "      <th>Recall</th>\n",
       "      <th>F1 Score</th>\n",
       "      <th>Specificity</th>\n",
       "      <th>AUROC</th>\n",
       "      <th>AUPRC</th>\n",
       "      <th>Accuracy</th>\n",
       "      <th>Cohen's Kappa</th>\n",
       "    </tr>\n",
       "  </thead>\n",
       "  <tbody>\n",
       "    <tr>\n",
       "      <th>0</th>\n",
       "      <td>DecisionTree</td>\n",
       "      <td>0.812682</td>\n",
       "      <td>0.830086</td>\n",
       "      <td>0.821292</td>\n",
       "      <td>0.870239</td>\n",
       "      <td>0.929527</td>\n",
       "      <td>0.916995</td>\n",
       "      <td>0.854012</td>\n",
       "      <td>0.660719</td>\n",
       "    </tr>\n",
       "  </tbody>\n",
       "</table>\n",
       "</div>"
      ],
      "text/plain": [
       "          Model  Precision    Recall  F1 Score  Specificity     AUROC     AUPRC  Accuracy  Cohen's Kappa\n",
       "0  DecisionTree   0.812682  0.830086  0.821292     0.870239  0.929527  0.916995  0.854012       0.660719"
      ]
     },
     "execution_count": 18,
     "metadata": {},
     "output_type": "execute_result"
    }
   ],
   "source": [
    "prob_list_train, len_train, true_stages_train = compute_probabilities(\n",
    "    train_sids, sw_df, final_features, 'DT', final_dt_model, group_var\n",
    ")\n",
    "pred_prob_train = final_dt_model.predict_proba(X_train)\n",
    "results_train = calculate_metrics(y_train, pred_prob_train, 'DecisionTree')\n",
    "\n",
    "results_train[\"Cohen's Kappa\"] = calculate_kappa(prob_list_train, true_stages_train)\n",
    "\n",
    "plot_cm(prob_list_train, true_stages_train, 'DecisionTree')\n",
    "results_train"
   ]
  },
  {
   "cell_type": "markdown",
   "metadata": {},
   "source": [
    "Testing score:"
   ]
  },
  {
   "cell_type": "code",
   "execution_count": 19,
   "metadata": {},
   "outputs": [
    {
     "name": "stdout",
     "output_type": "stream",
     "text": [
      "[[5153 1630]\n",
      " [1704 3651]]\n"
     ]
    },
    {
     "data": {
      "image/png": "[encoded data removed]",
      "text/plain": [
       "<Figure size 400x300 with 2 Axes>"
      ]
     },
     "metadata": {},
     "output_type": "display_data"
    },
    {
     "data": {
      "text/html": [
       "<div>\n",
       "<style scoped>\n",
       "    .dataframe tbody tr th:only-of-type {\n",
       "        vertical-align: middle;\n",
       "    }\n",
       "\n",
       "    .dataframe tbody tr th {\n",
       "        vertical-align: top;\n",
       "    }\n",
       "\n",
       "    .dataframe thead th {\n",
       "        text-align: right;\n",
       "    }\n",
       "</style>\n",
       "<table border=\"1\" class=\"dataframe\">\n",
       "  <thead>\n",
       "    <tr style=\"text-align: right;\">\n",
       "      <th></th>\n",
       "      <th>Model</th>\n",
       "      <th>Precision</th>\n",
       "      <th>Recall</th>\n",
       "      <th>F1 Score</th>\n",
       "      <th>Specificity</th>\n",
       "      <th>AUROC</th>\n",
       "      <th>AUPRC</th>\n",
       "      <th>Accuracy</th>\n",
       "      <th>Cohen's Kappa</th>\n",
       "    </tr>\n",
       "  </thead>\n",
       "  <tbody>\n",
       "    <tr>\n",
       "      <th>0</th>\n",
       "      <td>DecisionTree</td>\n",
       "      <td>0.691346</td>\n",
       "      <td>0.681793</td>\n",
       "      <td>0.686536</td>\n",
       "      <td>0.759693</td>\n",
       "      <td>0.807882</td>\n",
       "      <td>0.806305</td>\n",
       "      <td>0.725325</td>\n",
       "      <td>0.445397</td>\n",
       "    </tr>\n",
       "  </tbody>\n",
       "</table>\n",
       "</div>"
      ],
      "text/plain": [
       "          Model  Precision    Recall  F1 Score  Specificity     AUROC     AUPRC  Accuracy  Cohen's Kappa\n",
       "0  DecisionTree   0.691346  0.681793  0.686536     0.759693  0.807882  0.806305  0.725325       0.445397"
      ]
     },
     "execution_count": 19,
     "metadata": {},
     "output_type": "execute_result"
    }
   ],
   "source": [
    "prob_list_test, len_test, true_stages_test = compute_probabilities(\n",
    "    test_sids, sw_df, final_features, 'DT', final_dt_model, group_var\n",
    ")\n",
    "pred_prob_test = final_dt_model.predict_proba(X_test)\n",
    "results_test = calculate_metrics(y_test, pred_prob_test, 'DecisionTree')\n",
    "\n",
    "results_test[\"Cohen's Kappa\"] = calculate_kappa(prob_list_test, true_stages_test)\n",
    "\n",
    "plot_cm(prob_list_test, true_stages_test, 'DecisionTree')\n",
    "results_test"
   ]
  },
  {
   "cell_type": "markdown",
   "metadata": {},
   "source": [
    "#### Random Forest"
   ]
  },
  {
   "cell_type": "code",
   "execution_count": 20,
   "metadata": {},
   "outputs": [
    {
     "name": "stdout",
     "output_type": "stream",
     "text": [
      "100%|██████████| 50/50 [21:55<00:00, 26.31s/trial, best loss: -0.743191260193876] \n",
      "Best Hyperparameters of RandomForest: {'bootstrap': 0, 'criterion': 0, 'max_depth': 10, 'max_features': 0, 'min_samples_leaf': 0.031224330524753048, 'min_samples_split': 0.17972101511898567, 'n_estimators': 411}\n"
     ]
    }
   ],
   "source": [
    "rf = rf_trainer(X_train_resampled, y_train_resampled, X_val, y_val)"
   ]
  },
  {
   "cell_type": "markdown",
   "metadata": {},
   "source": [
    "Training score:"
   ]
  },
  {
   "cell_type": "code",
   "execution_count": 21,
   "metadata": {},
   "outputs": [
    {
     "name": "stdout",
     "output_type": "stream",
     "text": [
      "[[29782  4504]\n",
      " [ 5309 17944]]\n"
     ]
    },
    {
     "data": {
      "image/png": "[encoded data removed]",
      "text/plain": [
       "<Figure size 400x300 with 2 Axes>"
      ]
     },
     "metadata": {},
     "output_type": "display_data"
    },
    {
     "data": {
      "text/html": [
       "<div>\n",
       "<style scoped>\n",
       "    .dataframe tbody tr th:only-of-type {\n",
       "        vertical-align: middle;\n",
       "    }\n",
       "\n",
       "    .dataframe tbody tr th {\n",
       "        vertical-align: top;\n",
       "    }\n",
       "\n",
       "    .dataframe thead th {\n",
       "        text-align: right;\n",
       "    }\n",
       "</style>\n",
       "<table border=\"1\" class=\"dataframe\">\n",
       "  <thead>\n",
       "    <tr style=\"text-align: right;\">\n",
       "      <th></th>\n",
       "      <th>Model</th>\n",
       "      <th>Precision</th>\n",
       "      <th>Recall</th>\n",
       "      <th>F1 Score</th>\n",
       "      <th>Specificity</th>\n",
       "      <th>AUROC</th>\n",
       "      <th>AUPRC</th>\n",
       "      <th>Accuracy</th>\n",
       "      <th>Cohen's Kappa</th>\n",
       "    </tr>\n",
       "  </thead>\n",
       "  <tbody>\n",
       "    <tr>\n",
       "      <th>0</th>\n",
       "      <td>RandomForest</td>\n",
       "      <td>0.799359</td>\n",
       "      <td>0.771685</td>\n",
       "      <td>0.785278</td>\n",
       "      <td>0.868634</td>\n",
       "      <td>0.904513</td>\n",
       "      <td>0.88807</td>\n",
       "      <td>0.829455</td>\n",
       "      <td>0.621812</td>\n",
       "    </tr>\n",
       "  </tbody>\n",
       "</table>\n",
       "</div>"
      ],
      "text/plain": [
       "          Model  Precision    Recall  F1 Score  Specificity     AUROC    AUPRC  Accuracy  Cohen's Kappa\n",
       "0  RandomForest   0.799359  0.771685  0.785278     0.868634  0.904513  0.88807  0.829455       0.621812"
      ]
     },
     "execution_count": 21,
     "metadata": {},
     "output_type": "execute_result"
    }
   ],
   "source": [
    "prob_list_train, len_train, true_stages_train = compute_probabilities(\n",
    "    train_sids, sw_df, final_features, 'rf', rf, group_var\n",
    ")\n",
    "pred_prob_train = rf.predict_proba(X_train)\n",
    "results_train = calculate_metrics(y_train, pred_prob_train, 'RandomForest')\n",
    "\n",
    "results_train[\"Cohen's Kappa\"] = calculate_kappa(prob_list_train, true_stages_train)\n",
    "\n",
    "plot_cm(prob_list_train, true_stages_train, 'RandomForest')\n",
    "\n",
    "results_train"
   ]
  },
  {
   "cell_type": "markdown",
   "metadata": {},
   "source": [
    "Testing score:"
   ]
  },
  {
   "cell_type": "code",
   "execution_count": 22,
   "metadata": {},
   "outputs": [
    {
     "name": "stdout",
     "output_type": "stream",
     "text": [
      "[[5179 1604]\n",
      " [1506 3849]]\n"
     ]
    },
    {
     "data": {
      "image/png": "[encoded data removed]",
      "text/plain": [
       "<Figure size 400x300 with 2 Axes>"
      ]
     },
     "metadata": {},
     "output_type": "display_data"
    },
    {
     "data": {
      "text/html": [
       "<div>\n",
       "<style scoped>\n",
       "    .dataframe tbody tr th:only-of-type {\n",
       "        vertical-align: middle;\n",
       "    }\n",
       "\n",
       "    .dataframe tbody tr th {\n",
       "        vertical-align: top;\n",
       "    }\n",
       "\n",
       "    .dataframe thead th {\n",
       "        text-align: right;\n",
       "    }\n",
       "</style>\n",
       "<table border=\"1\" class=\"dataframe\">\n",
       "  <thead>\n",
       "    <tr style=\"text-align: right;\">\n",
       "      <th></th>\n",
       "      <th>Model</th>\n",
       "      <th>Precision</th>\n",
       "      <th>Recall</th>\n",
       "      <th>F1 Score</th>\n",
       "      <th>Specificity</th>\n",
       "      <th>AUROC</th>\n",
       "      <th>AUPRC</th>\n",
       "      <th>Accuracy</th>\n",
       "      <th>Cohen's Kappa</th>\n",
       "    </tr>\n",
       "  </thead>\n",
       "  <tbody>\n",
       "    <tr>\n",
       "      <th>0</th>\n",
       "      <td>RandomForest</td>\n",
       "      <td>0.70585</td>\n",
       "      <td>0.718768</td>\n",
       "      <td>0.71225</td>\n",
       "      <td>0.763526</td>\n",
       "      <td>0.820053</td>\n",
       "      <td>0.811485</td>\n",
       "      <td>0.74378</td>\n",
       "      <td>0.469405</td>\n",
       "    </tr>\n",
       "  </tbody>\n",
       "</table>\n",
       "</div>"
      ],
      "text/plain": [
       "          Model  Precision    Recall  F1 Score  Specificity     AUROC     AUPRC  Accuracy  Cohen's Kappa\n",
       "0  RandomForest    0.70585  0.718768   0.71225     0.763526  0.820053  0.811485   0.74378       0.469405"
      ]
     },
     "execution_count": 22,
     "metadata": {},
     "output_type": "execute_result"
    }
   ],
   "source": [
    "prob_list_test, len_test, true_stages_test = compute_probabilities(\n",
    "    test_sids, sw_df, final_features, 'rf', rf, group_var\n",
    ")\n",
    "\n",
    "pred_prob_test = rf.predict_proba(X_test)\n",
    "results_test = calculate_metrics(y_test, pred_prob_test, 'RandomForest')\n",
    "\n",
    "results_test[\"Cohen's Kappa\"] = calculate_kappa(prob_list_test, true_stages_test)\n",
    "\n",
    "plot_cm(prob_list_test, true_stages_test, 'RandomForest')\n",
    "\n",
    "results_test"
   ]
  },
  {
   "cell_type": "markdown",
   "metadata": {},
   "source": [
    "### LightGBM + LSTM"
   ]
  },
  {
   "cell_type": "markdown",
   "metadata": {},
   "source": [
    "#### Initial Prediction with LightGBM"
   ]
  },
  {
   "cell_type": "code",
   "execution_count": null,
   "metadata": {},
   "outputs": [],
   "source": [
    "lgbm = lightgbm_trainer(X_train_resampled, y_train_resampled, X_val, y_val)"
   ]
  },
  {
   "cell_type": "markdown",
   "metadata": {},
   "source": [
    "Training score:"
   ]
  },
  {
   "cell_type": "code",
   "execution_count": null,
   "metadata": {},
   "outputs": [],
   "source": [
    "prob_list_train, len_train, true_stages_train = compute_probabilities(\n",
    "    train_sids, sw_df, final_features, 'lgb', lgbm, group_var\n",
    ")\n",
    "pred_prob_train = lgbm.predict_proba(X_train)\n",
    "results_train = calculate_metrics(y_train, pred_prob_train, 'LightGBM')\n",
    "\n",
    "results_train[\"Cohen's Kappa\"] = calculate_kappa(prob_list_train, true_stages_train)\n",
    "\n",
    "plot_cm(prob_list_train, true_stages_train, 'LightGBM')\n",
    "\n",
    "results_train"
   ]
  },
  {
   "cell_type": "markdown",
   "metadata": {},
   "source": [
    "Testing score:"
   ]
  },
  {
   "cell_type": "code",
   "execution_count": null,
   "metadata": {},
   "outputs": [],
   "source": [
    "prob_list_test, len_test, true_stages_test = compute_probabilities(\n",
    "    test_sids, sw_df, final_features, 'lgb', lgbm, group_var\n",
    ")\n",
    "\n",
    "pred_prob_test = lgbm.predict_proba(X_test)\n",
    "results_test = calculate_metrics(y_test, pred_prob_test, 'LightGBM')\n",
    "\n",
    "results_test[\"Cohen's Kappa\"] = calculate_kappa(prob_list_test, true_stages_test)\n",
    "\n",
    "plot_cm(prob_list_test, true_stages_test, 'LightGBM')\n",
    "\n",
    "results_test"
   ]
  },
  {
   "cell_type": "markdown",
   "metadata": {},
   "source": [
    "Identify the best features by explaining the model using `shap` library:"
   ]
  },
  {
   "cell_type": "code",
   "execution_count": null,
   "metadata": {},
   "outputs": [],
   "source": [
    "import shap\n",
    "\n",
    "\n",
    "explainer = shap.TreeExplainer(lgbm)\n",
    "shap_values = explainer.shap_values(X_train)\n",
    "shap.summary_plot(shap_values, X_train, plot_type='bar', feature_names=final_features)"
   ]
  },
  {
   "cell_type": "markdown",
   "metadata": {},
   "source": [
    "#### Post processing using LSTM"
   ]
  },
  {
   "cell_type": "code",
   "execution_count": null,
   "metadata": {},
   "outputs": [],
   "source": [
    "import torch"
   ]
  },
  {
   "cell_type": "markdown",
   "metadata": {},
   "source": [
    "Training process:"
   ]
  },
  {
   "cell_type": "code",
   "execution_count": null,
   "metadata": {},
   "outputs": [],
   "source": [
    "train_dataset = TimeSeriesDataset(prob_list_train, len_train, true_stages_train)\n",
    "train_dataloader = DataLoader(train_dataset, batch_size=32, shuffle=False, collate_fn=collate_fn)"
   ]
  },
  {
   "cell_type": "code",
   "execution_count": null,
   "metadata": {},
   "outputs": [],
   "source": [
    "lstm = lstm_trainer(train_dataloader, num_epoch=80, hidden_layer_size=32, learning_rate=1e-3)"
   ]
  },
  {
   "cell_type": "markdown",
   "metadata": {},
   "source": [
    "Evaluation with test set:"
   ]
  },
  {
   "cell_type": "code",
   "execution_count": null,
   "metadata": {},
   "outputs": [],
   "source": [
    "test_dataset = TimeSeriesDataset(prob_list_test, len_test, true_stages_test)\n",
    "test_dataloader = DataLoader(test_dataset, batch_size=1)"
   ]
  },
  {
   "cell_type": "code",
   "execution_count": null,
   "metadata": {},
   "outputs": [],
   "source": [
    "device = torch.device('cuda:0' if torch.cuda.is_available() else 'cpu')\n",
    "print(f\"Current device: {device}\")\n",
    "\n",
    "lstm.eval()\n",
    "lstm.to(device)\n",
    "\n",
    "pred_prob = []\n",
    "kappa = []\n",
    "\n",
    "with torch.no_grad():\n",
    "    for batch in test_dataloader:\n",
    "        sample = batch['sample'].to(device)\n",
    "        length = batch['length']\n",
    "        label = batch['label'].to(device)\n",
    "\n",
    "        outputs = lstm(sample, length)\n",
    "\n",
    "        pred_prob.extend(outputs.cpu().numpy())\n",
    "\n",
    "        kappa.append(\n",
    "            cohen_kappa_score(\n",
    "                label.cpu().numpy()[0],\n",
    "                np.argmax(outputs.cpu().numpy()[0], axis=1)\n",
    "            )\n",
    "        )\n",
    "\n",
    "true_arr = np.concatenate(true_stages_test)\n",
    "pred_arr = np.concatenate(pred_prob)\n",
    "\n",
    "results = calculate_metrics(true_arr, pred_arr, 'LightGBM_LSTM')\n",
    "results[\"Cohen's Kappa\"] = np.average(kappa)\n",
    "\n",
    "plot_cm(pred_arr, true_stages_test, 'LightGBM_LSTM')\n",
    "results"
   ]
  },
  {
   "cell_type": "markdown",
   "metadata": {},
   "source": [
    "### GPBoost + Random Effects + LSTM"
   ]
  },
  {
   "cell_type": "markdown",
   "metadata": {},
   "source": [
    "#### Apnea Random Effect"
   ]
  },
  {
   "cell_type": "code",
   "execution_count": null,
   "metadata": {},
   "outputs": [],
   "source": [
    "group_vars = ['AHI_Severity', 'Obesity']\n",
    "\n",
    "group_var = [group_vars[0]]  # selecting Apnea as random effect\n",
    "\n",
    "(X_train_resampled, y_train_resampled, group_train_resampled), \\\n",
    "(X_val, y_val, group_val), \\\n",
    "(X_test, y_test, group_test) = process_and_resampled_data(\n",
    "    sw_df, train_sids, val_sids, test_sids, final_features, group_var\n",
    ")"
   ]
  },
  {
   "cell_type": "code",
   "execution_count": null,
   "metadata": {},
   "outputs": [],
   "source": [
    "final_gpb_model = gpboost_trainer(X_train_resampled, group_train_resampled, y_train_resampled, X_val, y_val, group_val)"
   ]
  },
  {
   "cell_type": "markdown",
   "metadata": {},
   "source": [
    "##### Initial Prediction with GPBoost"
   ]
  },
  {
   "cell_type": "code",
   "execution_count": null,
   "metadata": {},
   "outputs": [],
   "source": [
    "prob_list_train, len_train, true_list_train = compute_probabilities(\n",
    "    train_sids, sw_df, final_features, 'gpb', final_gpb_model, group_var\n",
    ")\n",
    "pred_prob_train = get_predicted_probabilities('gpb', final_gpb_model, X_train, group_train)\n",
    "plot_cm(prob_list_train, true_list_train, 'GPBoost_Apnea Severity')\n",
    "results_train_gpb_Apnea = get_evaluation_metrics(\"GPBoost_Apnea Severity\", y_train, pred_prob_train, prob_list_train, true_list_train)\n",
    "# save_result(results_train_gpb_Apnea, train_file)\n",
    "results_train_gpb_Apnea"
   ]
  },
  {
   "cell_type": "code",
   "execution_count": null,
   "metadata": {},
   "outputs": [],
   "source": [
    "prob_list_test, len_test, true_list_test = compute_probabilities(\n",
    "    test_sids, sw_df, final_features, 'gpb', final_gpb_model, group_var\n",
    ")\n",
    "pred_prob_test = get_predicted_probabilities('gpb', final_gpb_model, X_test, group_test)\n",
    "plot_cm(prob_list_test, true_list_test, 'GPBoost_Apnea Severity')\n",
    "results_test_gpb_Apnea = get_evaluation_metrics(\"GPBoost_Apnea Severity\", y_test, pred_prob_test, prob_list_test, true_list_test)\n",
    "# save_result(results_test_gpb_Apnea, test_file)\n",
    "results_test_gpb_Apnea"
   ]
  },
  {
   "cell_type": "markdown",
   "metadata": {},
   "source": [
    "##### Post Processing with LSTM"
   ]
  },
  {
   "cell_type": "code",
   "execution_count": null,
   "metadata": {},
   "outputs": [],
   "source": [
    "train_dataset = TimeSeriesDataset(prob_list_train, len_train, true_list_train)\n",
    "train_dataloader = DataLoader(train_dataset, batch_size=32, shuffle=False, collate_fn=collate_fn)"
   ]
  },
  {
   "cell_type": "code",
   "execution_count": null,
   "metadata": {},
   "outputs": [],
   "source": [
    "test_dataset = TimeSeriesDataset(prob_list_test, len_test, true_list_test)\n",
    "test_dataloader = DataLoader(test_dataset, batch_size=1)"
   ]
  },
  {
   "cell_type": "code",
   "execution_count": null,
   "metadata": {},
   "outputs": [],
   "source": [
    "lstm = lstm_trainer(train_dataloader, num_epoch=20, hidden_layer_size=32, learning_rate=1e-3)"
   ]
  },
  {
   "cell_type": "code",
   "execution_count": null,
   "metadata": {},
   "outputs": [],
   "source": [
    "device = torch.device('cuda:0' if torch.cuda.is_available() else 'cpu')\n",
    "print(f\"Current device: {device}\")\n",
    "\n",
    "lstm.eval()\n",
    "lstm.to(device)\n",
    "\n",
    "pred_prob = []\n",
    "kappa = []\n",
    "\n",
    "with torch.no_grad():\n",
    "    for batch in test_dataloader:\n",
    "        sample = batch['sample'].to(device)\n",
    "        length = batch['length']\n",
    "        label = batch['label'].to(device)\n",
    "\n",
    "        outputs = lstm(sample, length)\n",
    "\n",
    "        pred_prob.extend(outputs.cpu().numpy())\n",
    "\n",
    "        kappa.append(\n",
    "            cohen_kappa_score(\n",
    "                label.cpu().numpy()[0],\n",
    "                np.argmax(outputs.cpu().numpy()[0], axis=1)\n",
    "            )\n",
    "        )\n",
    "\n",
    "true_arr = np.concatenate(true_list_test)\n",
    "pred_arr = np.concatenate(pred_prob)\n",
    "\n",
    "results_test_gpb_Apnea_lstm = calculate_metrics(true_arr, pred_arr, 'GPBoost_Apnea Severity_LSTM')\n",
    "results_test_gpb_Apnea_lstm[\"Cohen's Kappa\"] = np.average(kappa)\n",
    "\n",
    "plot_cm(pred_arr, true_list_test, 'GPBoost_Apnea Severity_LSTM')\n",
    "\n",
    "# save_result(results_test_gpb_Apnea_lstm, test_file)\n",
    "results_test_gpb_Apnea_lstm"
   ]
  },
  {
   "cell_type": "markdown",
   "metadata": {},
   "source": [
    "#### Obesity Random Effect"
   ]
  },
  {
   "cell_type": "code",
   "execution_count": null,
   "metadata": {},
   "outputs": [],
   "source": [
    "group_vars = ['AHI_Severity', 'Obesity']\n",
    "\n",
    "group_var = [group_vars[1]]  # selecting Obesity as random effect\n",
    "\n",
    "(X_train_resampled, y_train_resampled, group_train_resampled), \\\n",
    "(X_val, y_val, group_val), \\\n",
    "(X_test, y_test, group_test) = process_and_resampled_data(\n",
    "    sw_df, train_sids, val_sids, test_sids, final_features, group_var\n",
    ")"
   ]
  },
  {
   "cell_type": "code",
   "execution_count": null,
   "metadata": {},
   "outputs": [],
   "source": [
    "final_gpb_model = gpboost_trainer(X_train_resampled, group_train_resampled, y_train_resampled, X_val, y_val, group_val)"
   ]
  },
  {
   "cell_type": "markdown",
   "metadata": {},
   "source": [
    "##### Initial Prediction with GPBoost"
   ]
  },
  {
   "cell_type": "code",
   "execution_count": null,
   "metadata": {},
   "outputs": [],
   "source": [
    "prob_list_train, len_train, true_list_train = compute_probabilities(\n",
    "    train_sids, sw_df, final_features, 'gpb', final_gpb_model, group_var\n",
    ")\n",
    "pred_prob_train = get_predicted_probabilities('gpb', final_gpb_model, X_train, group_train)\n",
    "plot_cm(prob_list_train, true_list_train, 'GPBoost_Obesity')\n",
    "results_train_gpb_Apnea = get_evaluation_metrics(\"GPBoost_Obesity\", y_train, pred_prob_train, prob_list_train, true_list_train)\n",
    "# save_result(results_train_gpb_Apnea, train_file)\n",
    "results_train_gpb_Apnea"
   ]
  },
  {
   "cell_type": "code",
   "execution_count": null,
   "metadata": {},
   "outputs": [],
   "source": [
    "prob_list_test, len_test, true_list_test = compute_probabilities(\n",
    "    test_sids, sw_df, final_features, 'gpb', final_gpb_model, group_var\n",
    ")\n",
    "pred_prob_test = get_predicted_probabilities('gpb', final_gpb_model, X_test, group_test)\n",
    "plot_cm(prob_list_test, true_list_test, 'GPBoost_Obesity')\n",
    "results_test_gpb_Apnea = get_evaluation_metrics(\"GPBoost_Obesity\", y_test, pred_prob_test, prob_list_test, true_list_test)\n",
    "# save_result(results_test_gpb_Apnea, test_file)\n",
    "results_test_gpb_Apnea"
   ]
  },
  {
   "cell_type": "markdown",
   "metadata": {},
   "source": [
    "##### Post Processing with LSTM"
   ]
  },
  {
   "cell_type": "code",
   "execution_count": null,
   "metadata": {},
   "outputs": [],
   "source": [
    "train_dataset = TimeSeriesDataset(prob_list_train, len_train, true_list_train)\n",
    "train_dataloader = DataLoader(train_dataset, batch_size=32, shuffle=False, collate_fn=collate_fn)"
   ]
  },
  {
   "cell_type": "code",
   "execution_count": null,
   "metadata": {},
   "outputs": [],
   "source": [
    "test_dataset = TimeSeriesDataset(prob_list_test, len_test, true_list_test)\n",
    "test_dataloader = DataLoader(test_dataset, batch_size=1)"
   ]
  },
  {
   "cell_type": "code",
   "execution_count": null,
   "metadata": {},
   "outputs": [],
   "source": [
    "lstm = lstm_trainer(train_dataloader, num_epoch=20, hidden_layer_size=32, learning_rate=1e-3)"
   ]
  },
  {
   "cell_type": "code",
   "execution_count": null,
   "metadata": {},
   "outputs": [],
   "source": [
    "device = torch.device('cuda:0' if torch.cuda.is_available() else 'cpu')\n",
    "print(f\"Current device: {device}\")\n",
    "\n",
    "lstm.eval()\n",
    "lstm.to(device)\n",
    "\n",
    "pred_prob = []\n",
    "kappa = []\n",
    "\n",
    "with torch.no_grad():\n",
    "    for batch in test_dataloader:\n",
    "        sample = batch['sample'].to(device)\n",
    "        length = batch['length']\n",
    "        label = batch['label'].to(device)\n",
    "\n",
    "        outputs = lstm(sample, length)\n",
    "\n",
    "        pred_prob.extend(outputs.cpu().numpy())\n",
    "\n",
    "        kappa.append(\n",
    "            cohen_kappa_score(\n",
    "                label.cpu().numpy()[0],\n",
    "                np.argmax(outputs.cpu().numpy()[0], axis=1)\n",
    "            )\n",
    "        )\n",
    "\n",
    "true_arr = np.concatenate(true_list_test)\n",
    "pred_arr = np.concatenate(pred_prob)\n",
    "\n",
    "results_test_gpb_Apnea_lstm = calculate_metrics(true_arr, pred_arr, 'GPBoost_Obesity_LSTM')\n",
    "results_test_gpb_Apnea_lstm[\"Cohen's Kappa\"] = np.average(kappa)\n",
    "\n",
    "plot_cm(pred_arr, true_list_test, 'GPBoost_Obesity_LSTM')\n",
    "\n",
    "# save_result(results_test_gpb_Apnea_lstm, test_file)\n",
    "results_test_gpb_Apnea_lstm"
   ]
  },
  {
   "cell_type": "markdown",
   "metadata": {},
   "source": [
    "### Training with FT-Transformer Model (Discarded)"
   ]
  },
  {
   "cell_type": "markdown",
   "metadata": {},
   "source": [
    "Here, we need to reformat the training data to integrate numerical and categorical features together:"
   ]
  },
  {
   "cell_type": "code",
   "execution_count": null,
   "metadata": {},
   "outputs": [],
   "source": [
    "cat_features = ['AHI_Severity', 'Obesity']  # Categorical features\n",
    "num_features = [\n",
    "    col for col in sw_df.columns \n",
    "    if col not in cat_features and col in final_features\n",
    "]  # Numerical features"
   ]
  },
  {
   "cell_type": "code",
   "execution_count": null,
   "metadata": {},
   "outputs": [],
   "source": [
    "X_train_df = sw_df.loc[sw_df[\"sid\"].isin(train_sids), num_features+cat_features]\n",
    "y_train_df = sw_df.loc[sw_df[\"sid\"].isin(train_sids), \"Sleep_Stage\"]"
   ]
  },
  {
   "cell_type": "markdown",
   "metadata": {},
   "source": [
    "Do the resampling:"
   ]
  },
  {
   "cell_type": "code",
   "execution_count": null,
   "metadata": {},
   "outputs": [],
   "source": [
    "smote = SMOTE(random_state=4487)\n",
    "X_train_df, y_train_df = smote.fit_resample(X_train_df, y_train_df)"
   ]
  },
  {
   "cell_type": "code",
   "execution_count": null,
   "metadata": {},
   "outputs": [],
   "source": [
    "X_train_num_df = X_train_df.loc[:, num_features]\n",
    "X_train_cat_df = X_train_df.loc[:, cat_features]"
   ]
  },
  {
   "cell_type": "code",
   "execution_count": null,
   "metadata": {},
   "outputs": [],
   "source": [
    "X_val_num_df = sw_df.loc[sw_df[\"sid\"].isin(val_sids), num_features]\n",
    "X_val_cat_df = sw_df.loc[sw_df[\"sid\"].isin(val_sids), cat_features]\n",
    "y_val_df = sw_df.loc[sw_df[\"sid\"].isin(val_sids), \"Sleep_Stage\"]"
   ]
  },
  {
   "cell_type": "code",
   "execution_count": null,
   "metadata": {},
   "outputs": [],
   "source": [
    "X_test_num_df = sw_df.loc[sw_df[\"sid\"].isin(test_sids), num_features]\n",
    "X_test_cat_df = sw_df.loc[sw_df[\"sid\"].isin(test_sids), cat_features]\n",
    "y_test_df = sw_df.loc[sw_df[\"sid\"].isin(test_sids), \"Sleep_Stage\"]"
   ]
  },
  {
   "cell_type": "markdown",
   "metadata": {},
   "source": [
    "Rescale the numerical features using 'StandardScaler':"
   ]
  },
  {
   "cell_type": "code",
   "execution_count": null,
   "metadata": {},
   "outputs": [],
   "source": [
    "from sklearn.preprocessing import StandardScaler\n",
    "\n",
    "scaler = StandardScaler()\n",
    "X_train_num_df = scaler.fit_transform(X_train_num_df)\n",
    "X_val_num_df = scaler.transform(X_val_num_df)\n",
    "X_test_num_df = scaler.transform(X_test_num_df)"
   ]
  },
  {
   "cell_type": "markdown",
   "metadata": {},
   "source": [
    "Transform the dataset into Tensor formats:"
   ]
  },
  {
   "cell_type": "code",
   "execution_count": null,
   "metadata": {},
   "outputs": [],
   "source": [
    "X_train_num_tensor = torch.FloatTensor(X_train_num_df)\n",
    "X_train_cat_tensor = torch.LongTensor(X_train_cat_df.to_numpy())\n",
    "\n",
    "X_val_num_tensor = torch.FloatTensor(X_val_num_df)\n",
    "X_val_cat_tensor = torch.LongTensor(X_val_cat_df.to_numpy())\n",
    "\n",
    "X_test_num_tensor = torch.FloatTensor(X_test_num_df)\n",
    "X_test_cat_tensor = torch.LongTensor(X_test_cat_df.to_numpy())\n",
    "\n",
    "y_train_tensor = torch.LongTensor(y_train_df.to_numpy())\n",
    "y_val_tensor = torch.LongTensor(y_val_df.to_numpy())\n",
    "y_test_tensor = torch.LongTensor(y_test_df.to_numpy())"
   ]
  },
  {
   "cell_type": "markdown",
   "metadata": {},
   "source": [
    "Define cardinalities of categorical features:"
   ]
  },
  {
   "cell_type": "code",
   "execution_count": null,
   "metadata": {},
   "outputs": [],
   "source": [
    "cat_card = [\n",
    "    len(np.unique(sw_df['AHI_Severity'])),\n",
    "    len(np.unique(sw_df['Obesity']))\n",
    "]"
   ]
  },
  {
   "cell_type": "code",
   "execution_count": null,
   "metadata": {},
   "outputs": [],
   "source": [
    "print(len(X_train_num_tensor), len(X_train_cat_tensor), len(y_train_tensor))"
   ]
  },
  {
   "cell_type": "markdown",
   "metadata": {},
   "source": [
    "Train FT-Transformer:"
   ]
  },
  {
   "cell_type": "code",
   "execution_count": null,
   "metadata": {},
   "outputs": [],
   "source": [
    "model, preds, probs, labels = ft_transformer_trainer(\n",
    "    X_train_num_tensor, X_val_num_tensor, \n",
    "    X_train_cat_tensor, X_val_cat_tensor,\n",
    "    y_train_tensor, y_val_tensor,\n",
    "    num_epochs=10,\n",
    "    batch_size=32,\n",
    "    learning_rate=5e-4,\n",
    "    cat_cardinalities=cat_card,\n",
    "    d_token=8,\n",
    "    n_blocks=1,\n",
    "    ffn_d_hidden=8,\n",
    "    attention_dropout=0.2,\n",
    "    ffn_dropout=0.2,\n",
    "    residual_dropout=0.2\n",
    ")"
   ]
  },
  {
   "cell_type": "markdown",
   "metadata": {},
   "source": [
    "Evaluate on test set:"
   ]
  },
  {
   "cell_type": "code",
   "execution_count": null,
   "metadata": {},
   "outputs": [],
   "source": [
    "from sklearn.metrics import accuracy_score, f1_score\n",
    "from torch.utils.data import DataLoader, TensorDataset\n",
    "\n",
    "device = torch.device('cuda:0' if torch.cuda.is_available() else 'cpu')\n",
    "model.to(device)\n",
    "model.eval()\n",
    "\n",
    "test_dataset = TensorDataset(X_test_num_tensor, X_test_cat_tensor, y_test_tensor)\n",
    "test_loader = DataLoader(test_dataset, batch_size=32, shuffle=False)\n",
    "\n",
    "all_preds = []\n",
    "all_probs = []\n",
    "all_labels = []\n",
    "\n",
    "with torch.no_grad():\n",
    "    for num_inputs, cat_inputs, labels in test_loader:\n",
    "        num_inputs = num_inputs.to(device)\n",
    "        cat_inputs = cat_inputs.to(device)\n",
    "        labels = labels.to(device)\n",
    "        \n",
    "        outputs = model(num_inputs, cat_inputs)\n",
    "        probas = torch.softmax(outputs, dim=1)\n",
    "        _, pred_labels = torch.max(outputs, 1)\n",
    "\n",
    "        all_preds.extend(pred_labels.cpu().numpy())\n",
    "        all_probs.extend(probas[:, 1].cpu().numpy())\n",
    "        all_labels.extend(labels.cpu().numpy())\n",
    "\n",
    "accuracy = accuracy_score(all_labels, all_preds)\n",
    "auc = roc_auc_score(all_labels, all_probs)\n",
    "\n",
    "print(f'Test Accuracy: {accuracy:.4f}')\n",
    "print(f'Test AUC: {auc:.4f}')\n",
    "\n",
    "plot_cm(all_preds, all_labels, 'FTTransformer')"
   ]
  },
  {
   "cell_type": "code",
   "execution_count": null,
   "metadata": {},
   "outputs": [],
   "source": []
  }
 ],
 "metadata": {
  "kernelspec": {
   "display_name": "dreamt_fe",
   "language": "python",
   "name": "python3"
  },
  "language_info": {
   "codemirror_mode": {
    "name": "ipython",
    "version": 3
   },
   "file_extension": ".py",
   "mimetype": "text/x-python",
   "name": "python",
   "nbconvert_exporter": "python",
   "pygments_lexer": "ipython3",
   "version": "3.10.17"
  }
 },
 "nbformat": 4,
 "nbformat_minor": 2
}
